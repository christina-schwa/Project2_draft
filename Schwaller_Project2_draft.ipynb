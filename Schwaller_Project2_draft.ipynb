{
 "cells": [
  {
   "cell_type": "code",
   "execution_count": 78,
   "metadata": {},
   "outputs": [],
   "source": [
    "import psycopg2\n",
    "import os\n",
    "import sys\n",
    "from psycopg2 import OperationalError, errorcodes, errors\n",
    "import psycopg2.extras as extras"
   ]
  },
  {
   "cell_type": "code",
   "execution_count": 4,
   "metadata": {},
   "outputs": [],
   "source": [
    "#import all necessary modules\n",
    "import matplotlib.pyplot as plt\n",
    "import pandas as pd\n",
    "import numpy as np\n",
    "import requests\n",
    "import time\n",
    "from pprint import pprint\n",
    "\n",
    "# Import API key\n",
    "import api_keys\n",
    "\n",
    "# Get FBI API Key\n",
    "API_KEY = api_keys.fbi_api_key\n",
    "\n",
    "#Pull data from the website on trends for all crimes and all states from 2010 to 2019.\n",
    "\n",
    "# base url for getting api data\n",
    "base_url = \"https://api.usa.gov/crime/fbi/sapi/\"\n",
    "#Create a list of states in order to request data from each state\n",
    "stateAbbr = ['AL','AK','AZ','AR','CA','CO','CT','DE','FL','GA','HI','ID','IL','IN','IA','KS','KY','LA','ME','MD','MA','MI','MN','MS','MO','MT','NE','NV','NH','NJ','NM','NY','NC','ND','OH','OK','OR','PA','RI','SC','SD','TN','TX','UT','VT','VA','WA','WV','WI','WY']\n",
    "#Create a list of variables that we want to explore data for. In this case male and females\n",
    "variable = 'all'\n",
    "#declare the start and end year for the time period that we want to look at\n",
    "since = '2010'\n",
    "until = '2019'\n",
    "\n",
    "#create an empty dataframe\n",
    "crime_data = pd.DataFrame(columns=[])\n",
    "\n",
    "#Create a for loop to request data for each state and for each variable for the offense that we would like to look at.\n",
    "for i in stateAbbr:\n",
    "    desired_endpoint = \"api/arrest/states/offense/\" + i + '/' + variable + '/' + since + '/' + until\n",
    "    req = requests.get(base_url + desired_endpoint+'?api_key='+API_KEY).json()\n",
    "    new = pd.DataFrame(req[\"data\"])\n",
    "    #Create new columns in the dataframe so that we know what data corresponds to each state and variable.\n",
    "    new['State'] = i\n",
    "    #Append the data from each request to the dataframe\n",
    "    crime_data = crime_data.append(new)"
   ]
  },
  {
   "cell_type": "code",
   "execution_count": 7,
   "metadata": {},
   "outputs": [],
   "source": [
    "import itertools\n",
    "#base url\n",
    "base_url = \"https://api.usa.gov/crime/fbi/sapi/\"\n",
    "#Create a list of states in order to request data from each state\n",
    "stateAbbr = ['AL','AK','AZ','AR','CA','CO','CT','DE','FL','GA','HI','ID','IL','IN','IA','KS','KY','LA','ME','MD','MA','MI','MN','MS','MO','MT','NE','NV','NH','NJ','NM','NY','NC','ND','OH','OK','OR','PA','RI','SC','SD','TN','TX','UT','VT','VA','WA','WV','WI','WY']\n",
    "offense = [\"violent-crime\", \"property-crime\"]\n",
    "year = ['2010', \"2011\", \"2012\", \"2013\", \"2014\", \"2015\", \"2016\", \"2017\", \"2018\", '2019']\n",
    "\n",
    "#create an empty dataframe\n",
    "summarized_crime_type_data = pd.DataFrame(columns = [])\n",
    "\n",
    "#Create a for loop to request data for each state and for each variable for the offense that we would like to look at.\n",
    "for i,j,k in itertools.product(stateAbbr, offense, year):\n",
    "    desired_endpoint = \"api/summarized/state/\" + i + \"/\" + j + \"/\" + k + \"/\" + k\n",
    "    req = requests.get(base_url + desired_endpoint + \"?api_key=\" + API_KEY).json()\n",
    "    new = pd.DataFrame(req[\"results\"])\n",
    "    #Create new columns in the dataframe so that we know what data corresponds to each state and variable.\n",
    "    #new[\"State\"] = i\n",
    "    #new[\"Offense type\"] = j\n",
    "    #new[\"Year\"] = k\n",
    "    #Append the data from each request to the dataframe\n",
    "    summarized_crime_type_data = summarized_crime_type_data.append(new)"
   ]
  },
  {
   "cell_type": "code",
   "execution_count": 8,
   "metadata": {},
   "outputs": [
    {
     "data": {
      "text/html": [
       "<div>\n",
       "<style scoped>\n",
       "    .dataframe tbody tr th:only-of-type {\n",
       "        vertical-align: middle;\n",
       "    }\n",
       "\n",
       "    .dataframe tbody tr th {\n",
       "        vertical-align: top;\n",
       "    }\n",
       "\n",
       "    .dataframe thead th {\n",
       "        text-align: right;\n",
       "    }\n",
       "</style>\n",
       "<table border=\"1\" class=\"dataframe\">\n",
       "  <thead>\n",
       "    <tr style=\"text-align: right;\">\n",
       "      <th></th>\n",
       "      <th>ori</th>\n",
       "      <th>data_year</th>\n",
       "      <th>offense</th>\n",
       "      <th>state_abbr</th>\n",
       "      <th>cleared</th>\n",
       "      <th>actual</th>\n",
       "    </tr>\n",
       "  </thead>\n",
       "  <tbody>\n",
       "    <tr>\n",
       "      <th>0</th>\n",
       "      <td>AL0010000</td>\n",
       "      <td>2010</td>\n",
       "      <td>violent-crime</td>\n",
       "      <td>AL</td>\n",
       "      <td>26</td>\n",
       "      <td>349</td>\n",
       "    </tr>\n",
       "    <tr>\n",
       "      <th>1</th>\n",
       "      <td>AL0010100</td>\n",
       "      <td>2010</td>\n",
       "      <td>violent-crime</td>\n",
       "      <td>AL</td>\n",
       "      <td>53</td>\n",
       "      <td>289</td>\n",
       "    </tr>\n",
       "    <tr>\n",
       "      <th>2</th>\n",
       "      <td>AL0010200</td>\n",
       "      <td>2010</td>\n",
       "      <td>violent-crime</td>\n",
       "      <td>AL</td>\n",
       "      <td>0</td>\n",
       "      <td>1343</td>\n",
       "    </tr>\n",
       "    <tr>\n",
       "      <th>3</th>\n",
       "      <td>AL0010400</td>\n",
       "      <td>2010</td>\n",
       "      <td>violent-crime</td>\n",
       "      <td>AL</td>\n",
       "      <td>21</td>\n",
       "      <td>105</td>\n",
       "    </tr>\n",
       "    <tr>\n",
       "      <th>4</th>\n",
       "      <td>AL0010500</td>\n",
       "      <td>2010</td>\n",
       "      <td>violent-crime</td>\n",
       "      <td>AL</td>\n",
       "      <td>12</td>\n",
       "      <td>30</td>\n",
       "    </tr>\n",
       "  </tbody>\n",
       "</table>\n",
       "</div>"
      ],
      "text/plain": [
       "         ori  data_year        offense state_abbr  cleared  actual\n",
       "0  AL0010000       2010  violent-crime         AL       26     349\n",
       "1  AL0010100       2010  violent-crime         AL       53     289\n",
       "2  AL0010200       2010  violent-crime         AL        0    1343\n",
       "3  AL0010400       2010  violent-crime         AL       21     105\n",
       "4  AL0010500       2010  violent-crime         AL       12      30"
      ]
     },
     "execution_count": 8,
     "metadata": {},
     "output_type": "execute_result"
    }
   ],
   "source": [
    "summarized_crime_type_data.head()"
   ]
  },
  {
   "cell_type": "code",
   "execution_count": 99,
   "metadata": {},
   "outputs": [
    {
     "data": {
      "text/plain": [
       "ori           object\n",
       "data_year      int64\n",
       "offense       object\n",
       "state_abbr    object\n",
       "cleared        int64\n",
       "actual         int64\n",
       "dtype: object"
      ]
     },
     "execution_count": 99,
     "metadata": {},
     "output_type": "execute_result"
    }
   ],
   "source": [
    "summarized_crime_type_data.dtypes"
   ]
  },
  {
   "cell_type": "code",
   "execution_count": 97,
   "metadata": {},
   "outputs": [],
   "source": [
    "summarized_crime_type_data.to_csv(r'Crime_type_data.csv')"
   ]
  },
  {
   "cell_type": "code",
   "execution_count": 100,
   "metadata": {},
   "outputs": [
    {
     "name": "stdout",
     "output_type": "stream",
     "text": [
      "Table created successfully\n"
     ]
    }
   ],
   "source": [
    "conn = psycopg2.connect(\"host=localhost dbname=postgres user=postgres password=CLS521\")\n",
    "cur = conn.cursor()\n",
    "cur.execute('''CREATE TABLE Crime_Type\n",
    "      (ori TEXT PRIMARY KEY,\n",
    "      data_year INTEGER,\n",
    "      offense TEXT,\n",
    "      state_abbr TEXT,\n",
    "      cleared INTEGER,\n",
    "      actual INTEGER);''')\n",
    "print(\"Table created successfully\")\n",
    "\n",
    "conn.commit()"
   ]
  },
  {
   "cell_type": "code",
   "execution_count": 101,
   "metadata": {},
   "outputs": [
    {
     "ename": "TypeError",
     "evalue": "not all arguments converted during string formatting",
     "output_type": "error",
     "traceback": [
      "\u001b[0;31m---------------------------------------------------------------------------\u001b[0m",
      "\u001b[0;31mTypeError\u001b[0m                                 Traceback (most recent call last)",
      "\u001b[0;32m<ipython-input-101-daef58210daa>\u001b[0m in \u001b[0;36m<module>\u001b[0;34m\u001b[0m\n\u001b[1;32m      7\u001b[0m     \u001b[0mnext\u001b[0m\u001b[0;34m(\u001b[0m\u001b[0mreader\u001b[0m\u001b[0;34m)\u001b[0m \u001b[0;31m# Skip the header row.\u001b[0m\u001b[0;34m\u001b[0m\u001b[0;34m\u001b[0m\u001b[0m\n\u001b[1;32m      8\u001b[0m     \u001b[0;32mfor\u001b[0m \u001b[0mrow\u001b[0m \u001b[0;32min\u001b[0m \u001b[0mreader\u001b[0m\u001b[0;34m:\u001b[0m\u001b[0;34m\u001b[0m\u001b[0;34m\u001b[0m\u001b[0m\n\u001b[0;32m----> 9\u001b[0;31m         cur.execute(\n\u001b[0m\u001b[1;32m     10\u001b[0m         \u001b[0;34m\"INSERT INTO crime_data VALUES (%s, %s, %s, %s, %s, %s)\"\u001b[0m\u001b[0;34m,\u001b[0m\u001b[0;34m\u001b[0m\u001b[0;34m\u001b[0m\u001b[0m\n\u001b[1;32m     11\u001b[0m         \u001b[0mrow\u001b[0m\u001b[0;34m\u001b[0m\u001b[0;34m\u001b[0m\u001b[0m\n",
      "\u001b[0;31mTypeError\u001b[0m: not all arguments converted during string formatting"
     ]
    }
   ],
   "source": [
    "import csv\n",
    "\n",
    "conn = psycopg2.connect(\"host=localhost dbname=postgres user=postgres password=CLS521\")\n",
    "cur = conn.cursor()\n",
    "with open('crime_type_data.csv', 'r') as f:\n",
    "    reader = csv.reader(f)\n",
    "    next(reader) # Skip the header row.\n",
    "    for row in reader:\n",
    "        cur.execute(\n",
    "        \"INSERT INTO crime_data VALUES (%s, %s, %s, %s, %s, %s)\",\n",
    "        row\n",
    "    )\n",
    "conn.commit()"
   ]
  },
  {
   "cell_type": "code",
   "execution_count": null,
   "metadata": {},
   "outputs": [],
   "source": []
  }
 ],
 "metadata": {
  "kernelspec": {
   "display_name": "Python 3",
   "language": "python",
   "name": "python3"
  },
  "language_info": {
   "codemirror_mode": {
    "name": "ipython",
    "version": 3
   },
   "file_extension": ".py",
   "mimetype": "text/x-python",
   "name": "python",
   "nbconvert_exporter": "python",
   "pygments_lexer": "ipython3",
   "version": "3.8.5"
  }
 },
 "nbformat": 4,
 "nbformat_minor": 4
}
